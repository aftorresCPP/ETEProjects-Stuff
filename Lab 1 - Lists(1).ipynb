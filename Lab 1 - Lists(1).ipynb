{
 "cells": [
  {
   "cell_type": "markdown",
   "id": "ac613382-acda-4f55-909d-5deb9a1afbda",
   "metadata": {},
   "source": [
    "# Lists\n",
    "\n",
    "## Background\n",
    "Lists are one of the most commonly used data structures in Python and are very similar to arrays from other programming languages. A list can store many items or values inside of one overall object or structure, unlike a variable which can only store one item or value inside one object. \n",
    "\n",
    "The items in a list can be accessed by using what is called an “index” value, which simply refers to the position of a certain item inside of a list, as lists are ordered from item 0 to the number of elements - 1. Therefore a list with 5 elements will have index positions 0 through 4. \n",
    "\n",
    "Any data can be stored inside a list, numbers, strings, or objects, but it is common practice to only have one data type per list. Therefore if my list has integers, it would ONLY have integers, not strings, doubles, objects, etc."
   ]
  },
  {
   "cell_type": "markdown",
   "id": "c0e77989-3dbb-4106-b49b-f8dfa5bfeab5",
   "metadata": {},
   "source": [
    "## Mini-project - Guessing game\n",
    "Create a number guessing game and set a secret number at the beginning of the program. \n",
    "The program will ask the player to enter a number to guess what the number is, then it’ll inform the player if they got it right or wrong."
   ]
  },
  {
   "cell_type": "code",
   "execution_count": 3,
   "id": "24666484-c622-48ec-bf73-656e4262e6f3",
   "metadata": {
    "tags": []
   },
   "outputs": [
    {
     "name": "stdout",
     "output_type": "stream",
     "text": [
      "I'm going to draw a number from 1 to range_max. Enter your guess:\n",
      "75\n"
     ]
    },
    {
     "name": "stdin",
     "output_type": "stream",
     "text": [
      " 20\n"
     ]
    },
    {
     "name": "stdout",
     "output_type": "stream",
     "text": [
      "Here are the numbers you used so far:  [20]\n",
      "20\n",
      "Guess higher\n"
     ]
    },
    {
     "name": "stdin",
     "output_type": "stream",
     "text": [
      " 30\n"
     ]
    },
    {
     "name": "stdout",
     "output_type": "stream",
     "text": [
      "Here are the numbers you used so far:  [20, 30]\n",
      "30\n",
      "Guess higher\n"
     ]
    },
    {
     "name": "stdin",
     "output_type": "stream",
     "text": [
      " 40\n"
     ]
    },
    {
     "name": "stdout",
     "output_type": "stream",
     "text": [
      "Here are the numbers you used so far:  [20, 30, 40]\n",
      "40\n",
      "Guess higher\n"
     ]
    },
    {
     "name": "stdin",
     "output_type": "stream",
     "text": [
      " 70\n"
     ]
    },
    {
     "name": "stdout",
     "output_type": "stream",
     "text": [
      "Here are the numbers you used so far:  [20, 30, 40, 70]\n",
      "70\n",
      "Guess higher\n"
     ]
    },
    {
     "name": "stdin",
     "output_type": "stream",
     "text": [
      " 75\n"
     ]
    },
    {
     "name": "stdout",
     "output_type": "stream",
     "text": [
      "Here are the numbers you used so far:  [20, 30, 40, 70, 75]\n",
      "75\n",
      "You guessed the secret number\n"
     ]
    }
   ],
   "source": [
    "# haven't coded in a hot minute. Let's see how this goes. Here, I'll import stuff and make some lines that can make random numbers\n",
    "\n",
    "import random #importing this thingy python has to make random numbers\n",
    "guess_history = []\n",
    "def draw_num():\n",
    "    range_max = 100\n",
    "    possible_num = list(range(1, range_max)) #setting the difficulty of the game to pull numbers 1- range_max\n",
    "    secret_num = random.choice(possible_num) #secret number is selected here from the list of numbers\n",
    "    print(secret_num) #this is a test line to see if it draws a random element of the list upon running\n",
    "    return secret_num\n",
    "\n",
    "def main():\n",
    "    print(\"I'm going to draw a number from 1 to range_max. Enter your guess:\")\n",
    "    secret_num = draw_num()\n",
    "    while True:\n",
    "        user_guess = int(input())\n",
    "        guess_history.append(user_guess)\n",
    "        print(\"Here are the numbers you used so far: \", guess_history)\n",
    "        print(user_guess)\n",
    "        #print(secret_num)\n",
    "        if user_guess == secret_num:\n",
    "            print(\"You guessed the secret number\")\n",
    "            break\n",
    "        elif user_guess > secret_num:\n",
    "            print(\"Guess lower\")\n",
    "        else:\n",
    "            print(\"Guess higher\")\n",
    "            \n",
    "            \n",
    "    \n",
    "if __name__ == \"__main__\":\n",
    "    main()"
   ]
  },
  {
   "cell_type": "markdown",
   "id": "4584cbfd-289d-4f0d-a899-06d90d69e3fe",
   "metadata": {},
   "source": [
    "## Mini-Project - Dice Roll\n",
    "\n",
    "Part 1:\n",
    "Create a random number generator using dice. \n",
    "You must create at least 5 dice\n",
    "The game must use conditionals (If, Else, Elif)\n",
    "The game must use nested conditionals (if 0=0:if 1=1: do something)\n",
    "\n",
    "What lists should we create for the project?\n",
    "How many loops do we need?\n",
    "\n",
    "Part 2:\n",
    "Create a list to store your gameplay. \n",
    "Create at least 2 lists to store your game statistics.\n",
    "\n",
    "Part 3:\n",
    "At the end of the output your gameplay statistics\n",
    "\n",
    "Part 4:\n",
    "Exchange code with your partner and begin adding comments on improvements (save your original version)\n",
    "\n",
    "Part 5:\n",
    "Return the code and create a comparison \n",
    "\n",
    "Part 6:\n",
    "Upload the code and comparison it to Canvas. "
   ]
  },
  {
   "cell_type": "code",
   "execution_count": null,
   "id": "c1a378f3-4f8f-44c6-9181-8c2030ecc6ac",
   "metadata": {},
   "outputs": [],
   "source": [
    "# put your code here "
   ]
  },
  {
   "cell_type": "markdown",
   "id": "024a25d5-cb96-44be-9e7c-cb852c12f272",
   "metadata": {},
   "source": [
    "## Sample code\n",
    "Below you will find a Chat GPT generated Dice game.\n",
    "\n",
    "Lets talk about it. "
   ]
  },
  {
   "cell_type": "code",
   "execution_count": null,
   "id": "22a730ba-7ed0-4f65-8e31-fdaee97e43a3",
   "metadata": {
    "tags": []
   },
   "outputs": [],
   "source": [
    "import random\n",
    "\n",
    "def roll_dice():\n",
    "    return random.randint(1, 6)\n",
    "\n",
    "def main():\n",
    "    print(\"Welcome to the Dice Rolling Game!\")\n",
    "    print(\"You and the computer will each roll a dice, and the one with the higher number wins.\")\n",
    "\n",
    "    while True:\n",
    "        input(\"Press Enter to roll the dice...\")\n",
    "        \n",
    "        user_roll = roll_dice()\n",
    "        computer_roll = roll_dice()\n",
    "\n",
    "        print(\"You rolled:\", user_roll)\n",
    "        print(\"Computer rolled:\", computer_roll)\n",
    "\n",
    "        if user_roll > computer_roll:\n",
    "            print(\"Congratulations! You win!\")\n",
    "        elif user_roll < computer_roll:\n",
    "            print(\"Sorry, you lost. Better luck next time!\")\n",
    "        else:\n",
    "            print(\"It's a tie!\")\n",
    "\n",
    "        play_again = input(\"Do you want to play again? (yes/no): \").lower()\n",
    "        if play_again != \"yes\":\n",
    "            print(\"Thanks for playing!\")\n",
    "            break\n",
    "\n",
    "if __name__ == \"__main__\":\n",
    "    main()"
   ]
  },
  {
   "cell_type": "code",
   "execution_count": null,
   "id": "31e6d976-765c-4a4a-848a-4fedaa2bf83a",
   "metadata": {},
   "outputs": [
    {
     "name": "stdin",
     "output_type": "stream",
     "text": [
      "Press enter to roll dice \n"
     ]
    },
    {
     "name": "stdout",
     "output_type": "stream",
     "text": [
      "User rolled:  [2, 2]\n",
      "Computer rolled:  [5, 5]\n"
     ]
    },
    {
     "name": "stdin",
     "output_type": "stream",
     "text": [
      "You both rolled doubles. Press enter to roll a tie-breaker \n"
     ]
    },
    {
     "name": "stdout",
     "output_type": "stream",
     "text": [
      "User:  6\n",
      "Computer:  1\n",
      "You win\n",
      "This game's data (in lists):  [[2, 2]] [[5, 5]]\n"
     ]
    },
    {
     "name": "stdin",
     "output_type": "stream",
     "text": [
      "Press enter to roll dice \n"
     ]
    },
    {
     "name": "stdout",
     "output_type": "stream",
     "text": [
      "User rolled:  [4, 6]\n",
      "Computer rolled:  [2, 1]\n"
     ]
    },
    {
     "name": "stdin",
     "output_type": "stream",
     "text": [
      "Press enter to roll dice \n"
     ]
    },
    {
     "name": "stdout",
     "output_type": "stream",
     "text": [
      "User rolled:  [4, 2]\n",
      "Computer rolled:  [2, 5]\n"
     ]
    }
   ],
   "source": [
    "#Winner is whoever rolls a double first. If the computer and user both roll a double, a singular \n",
    "#tie-breaker dice will be rolled to determine the winner. Highest number of the tie breaker wins.\n",
    "\n",
    "import random\n",
    "urh = [] #user roll history\n",
    "crh = [] #computer roll history\n",
    "\n",
    "\n",
    "D1 = list(range(1,7))\n",
    "D2 = list(range(1,7))\n",
    "D3 = list(range(1,7))\n",
    "D4 = list(range(1,7))\n",
    "D5 = list(range(1,7)) #This is the tie-breaker die\n",
    "\n",
    "#print(D1)\n",
    "\n",
    "def rollDice():\n",
    "    user_roll = []\n",
    "    computer_roll = []\n",
    "    \n",
    "    result_D1 = random.choice(D1)\n",
    "    user_roll.append(result_D1)\n",
    "    result_D2 = random.choice(D2)\n",
    "    user_roll.append(result_D2)\n",
    "     \n",
    "    \n",
    "    result_D3 = random.choice(D3)\n",
    "    computer_roll.append(result_D3)\n",
    "    result_D4 = random.choice(D4)\n",
    "    computer_roll.append(result_D4)\n",
    "    \n",
    "\n",
    "    return user_roll\n",
    "    return computer_roll\n",
    "\n",
    "def rollTiebreak():\n",
    "    user_D5 = random.choice(D5)\n",
    "    computer_D5 = random.choice(D5)\n",
    "    \n",
    "    return user_D5\n",
    "    return computer_D5\n",
    "    \n",
    "#---------------------------------------------------------------------------------------------------------------------------------------    \n",
    "def main():\n",
    "    \n",
    "    while True:\n",
    "        input(\"Press enter to roll dice\")\n",
    "        i = 0 #this will represent the current turn number for each roll of the dice\n",
    "        \n",
    "        user_roll = rollDice()\n",
    "        print(\"User rolled: \", user_roll)\n",
    "        urh.append(user_roll)\n",
    "        \n",
    "        computer_roll = rollDice()\n",
    "        print(\"Computer rolled: \", computer_roll)\n",
    "        crh.append(computer_roll)\n",
    "        \n",
    "        #user_roll = [1,1]\n",
    "        #computer_roll = [1,1]\n",
    "        #The two lines above are used as a test case to see if the program enters the if-statement below\n",
    "        \n",
    "        if user_roll[i] == user_roll[i+1] and computer_roll[i] == computer_roll[i+1]:\n",
    "            doubleDouble = True\n",
    "            while doubleDouble:\n",
    "                input(\"You both rolled doubles. Press enter to roll a tie-breaker\")\n",
    "                user_tiebreak = rollTiebreak()\n",
    "                print(\"User: \", user_tiebreak)\n",
    "                computer_tiebreak = rollTiebreak()\n",
    "                print(\"Computer: \", computer_tiebreak)\n",
    "            \n",
    "                if computer_tiebreak == user_tiebreak:\n",
    "                    active = False #this is used to bring the program back to the doubleDouble comparison.Only decisive wins are allowed for each player\n",
    "                    \n",
    "                elif user_tiebreak > computer_tiebreak:\n",
    "                    print(\"You win\")\n",
    "                    print(\"This game's data (in lists): \", urh, crh)\n",
    "                    break\n",
    "                    \n",
    "                else:\n",
    "                    print(\"You lose\")\n",
    "                    print(\"This game's data (in lists): \", urh, crh)\n",
    "                    break\n",
    "        \n",
    "        elif user_roll[i] == user_roll[i+1]:\n",
    "            print(\"You win!\")\n",
    "            print(\"This game's data (in lists): \", urh, crh)\n",
    "            break  \n",
    "        \n",
    "        elif computer_roll[i] == computer_roll[i+1]:\n",
    "            print(\"You lose!\")\n",
    "            print(\"This game's data (in lists): \", urh, crh)\n",
    "            break\n",
    "            \n",
    "\n",
    "if __name__ == \"__main__\":\n",
    "    main()\n",
    "    "
   ]
  },
  {
   "cell_type": "code",
   "execution_count": null,
   "id": "1bd303db-d0e4-4886-a497-a53ef8950a28",
   "metadata": {},
   "outputs": [],
   "source": []
  }
 ],
 "metadata": {
  "kernelspec": {
   "display_name": "Python 3 (ipykernel)",
   "language": "python",
   "name": "python3"
  },
  "language_info": {
   "codemirror_mode": {
    "name": "ipython",
    "version": 3
   },
   "file_extension": ".py",
   "mimetype": "text/x-python",
   "name": "python",
   "nbconvert_exporter": "python",
   "pygments_lexer": "ipython3",
   "version": "3.11.5"
  }
 },
 "nbformat": 4,
 "nbformat_minor": 5
}
